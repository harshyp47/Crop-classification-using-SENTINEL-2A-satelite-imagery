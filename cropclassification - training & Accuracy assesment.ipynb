{
 "cells": [
  {
   "cell_type": "markdown",
   "id": "early-cross",
   "metadata": {},
   "source": [
    "# Data collection and preprocessing"
   ]
  },
  {
   "cell_type": "code",
   "execution_count": 1,
   "id": "federal-length",
   "metadata": {},
   "outputs": [
    {
     "name": "stdout",
     "output_type": "stream",
     "text": [
      "Okay!\n"
     ]
    }
   ],
   "source": [
    "import ee\n",
    "import geemap\n",
    "\n",
    "\n",
    "Map = geemap.Map()\n",
    "\n",
    "imgcol = ee.ImageCollection(\"COPERNICUS/S2\");\n",
    "\n",
    "#Polygon Study area with coordinates\n",
    "SA = ee.Geometry.Polygon(\n",
    "        [[[77.44504111066439, 27.133452708222787],\n",
    "          [77.44504111066439, 27.073245342079318],\n",
    "          [77.5248636509476, 27.073245342079318],\n",
    "          [77.5248636509476, 27.133452708222787]]], None, False);\n",
    "\n",
    "\n",
    "spatialFiltered = imgcol.filterBounds(SA); #Filter by area, You can input either SA or rectangle here\n",
    "\n",
    "year = \"2016\"\n",
    "\n",
    "#Enter Dates Here!\n",
    "jancol = spatialFiltered.filterDate(year+'-01-01', year+'-01-31'); #January\n",
    "febcol = spatialFiltered.filterDate(year+'-02-01', year+'-02-28'); #February\n",
    "marchcol = spatialFiltered.filterDate(year+'-03-01', year+'-03-31'); #March\n",
    "\n",
    "\n",
    "#Cloud mask function\n",
    "def maskS2clouds(image):\n",
    "    qa = image.select('QA60');\n",
    "\n",
    "\n",
    "    cloudBitMask = 1 << 10;\n",
    "    cirrusBitMask = 1 << 11;\n",
    "\n",
    "    mask = qa.bitwiseAnd(cloudBitMask).eq(0) and (qa.bitwiseAnd(cirrusBitMask).eq(0));\n",
    "\n",
    "    return image.updateMask(mask).divide(10000);\n",
    "\n",
    "\n",
    "\n",
    "#Making cloud free images\n",
    "cfreejan = jancol.map(maskS2clouds);\n",
    "cfreesinglejan = cfreejan.median()\n",
    "#print('cfreesinglejan',cfreesinglejan)\n",
    "\n",
    "cfreefeb = febcol.map(maskS2clouds);\n",
    "cfreesinglefeb = cfreefeb.median()\n",
    "#print('cfreesinglefeb',cfreesinglefeb)\n",
    "\n",
    "cfreemarch = marchcol.map(maskS2clouds);\n",
    "cfreesinglemarch = cfreemarch.median()\n",
    "#print('cfreesinglemarch',cfreesinglemarch)\n",
    "\n",
    "\n",
    "#Calculating NDVIs for each month\n",
    "ndvijan = cfreesinglejan.normalizedDifference(['B5', 'B4']).rename('NDVIjan');\n",
    "ndvifeb = cfreesinglefeb.normalizedDifference(['B5', 'B4']).rename('NDVIfeb');\n",
    "ndvimarch = cfreesinglemarch.normalizedDifference(['B5', 'B4']).rename('NDVImarch');\n",
    "\n",
    "\n",
    "#Taking empty image instance and adding three NDVIs to it\n",
    "ndvicomp = ee.Image().addBands([ndvijan, ndvifeb, ndvimarch]);\n",
    "\n",
    "\n",
    "#-----------------------------------------------VISULISATION-------------------------------------------------------------\n",
    "#Center map over Bharatpur area\n",
    "Map.setCenter(77.4813,27.1029, 13);\n",
    "scale = 30\n",
    "\n",
    "\n",
    "#Simple RGB \n",
    "rgbVis = {'min': 0.0,'max': 0.3,'bands': ['B4', 'B3', 'B2'],'gamma': [0.95, 1.1, 1], 'scale':scale}\n",
    "#Visulise Cloud free RGB image\n",
    "Map.addLayer(cfreesinglemarch.clip(SA), rgbVis, 'RGB');\n",
    "\n",
    "\n",
    "#NDVI of a month\n",
    "ndviParams = {'min': 0, 'max': 0.2, 'palette': ['blue', 'white', 'green'], 'scale':scale};\n",
    "\n",
    "#NDVI for january\n",
    "Map.addLayer(ndvicomp.select('NDVIjan').clip(SA), ndviParams, 'NDVIJan');\n",
    "#NDVI for february\n",
    "Map.addLayer(ndvicomp.select('NDVIfeb').clip(SA), ndviParams, 'NDVIFeb');\n",
    "#NDVI for march\n",
    "Map.addLayer(ndvicomp.select('NDVImarch').clip(SA), ndviParams, 'NDVIMarch');\n",
    "\n",
    "\n",
    "#False colour composite of a month\n",
    "false = {'bands': ['B8', 'B4', 'B3'],'min': 0,'max': 0.5,'gamma': [0.95, 1.1, 1], 'scale':scale};\n",
    "\n",
    "\n",
    "#Map.addLayer(cfreesinglejan.clip(SA), false, 'FCCJan')\n",
    "#Map.addLayer(cfreesinglefeb.clip(SA), false, 'FCCFeb')\n",
    "#Map.addLayer(cfreesinglemarch.clip(SA), false, 'FCCMarch')\n",
    "\n",
    "\n",
    "#NDVI colour composite\n",
    "ndvicc = {'bands': ['NDVIjan', 'NDVIfeb', 'NDVImarch'],'min': 0,'max': 0.5,'gamma': [0.85, 1.8, 0.8], 'scale':scale};\n",
    "\n",
    "Map.addLayer(ndvicomp.clip(SA), ndvicc, 'NDVI Multitemporal')\n",
    "\n",
    "\n",
    "mustard = ee.Geometry.Rectangle(77.4883, 27.1172, 77.5034, 27.1032)\n",
    "Map.addLayer(mustard)\n",
    "\n",
    "wheat = ee.Geometry.Rectangle(77.4619, 27.0800, 77.4684, 27.0750)\n",
    "Map.addLayer(wheat)\n",
    "\n",
    "nonc = ee.Geometry.Rectangle(77.4588, 27.0932, 77.4627, 27.0895)\n",
    "Map.addLayer(nonc)\n",
    "\n",
    "Map.centerObject(mustard);\n",
    "\n",
    "\n",
    "\n",
    "\n",
    "\n",
    "#Mustard\n",
    "# 77.4883, 27.1172    \n",
    "\n",
    "# 77.5034, 27.1032\n",
    "\n",
    "#################################\n",
    "#Wheat\n",
    "#77.4619, 27.0800\n",
    "\n",
    "#77.4684, 27.0750\n",
    "\n",
    "\n",
    "#################################\n",
    "#Non crops\n",
    "#77.4588, 27.0932\n",
    "\n",
    "#77.4627, 27.0895\n",
    "\n",
    "#1 - mustard\n",
    "#2 -wheat\n",
    "#3 - non crops\n",
    "features = [\n",
    "   ee.Feature(mustard, {'name': 1}),\n",
    "    ee.Feature(wheat, {'name': 2}),\n",
    "    ee.Feature(nonc, {'name': 3}),\n",
    "\n",
    "]\n",
    "\n",
    "flist = ee.FeatureCollection(features);\n",
    "\n",
    "\n",
    "# print(flist.first().getInfo())\n",
    "\n",
    "bandtraining = ['NDVIjan', 'NDVIfeb', 'NDVImarch']\n",
    "label = 'name'\n",
    "\n",
    "# Overlay the points on the imagery to get training.\n",
    "training = ndvicomp.select(bandtraining).sampleRegions(**{\n",
    "  'collection': flist,\n",
    "  'properties': [label],\n",
    "  'scale': 30\n",
    "})\n",
    "print(\"Okay!\")\n"
   ]
  },
  {
   "cell_type": "markdown",
   "id": "treated-slovakia",
   "metadata": {},
   "source": [
    "# Plotting NDVI graph for each month"
   ]
  },
  {
   "cell_type": "code",
   "execution_count": 32,
   "id": "processed-westminster",
   "metadata": {},
   "outputs": [
    {
     "data": {
      "image/png": "[encoded data removed]",
      "text/plain": [
       "<Figure size 720x360 with 1 Axes>"
      ]
     },
     "metadata": {
      "needs_background": "light"
     },
     "output_type": "display_data"
    }
   ],
   "source": [
    "#Calculating mean of each month\n",
    "import numpy as np\n",
    "import matplotlib.pyplot as plt\n",
    "\n",
    "janmean = ndvicomp.select('NDVIjan').reduceRegion(reducer=ee.Reducer.mean(),geometry=SA,scale=scale);\n",
    "febmean = ndvicomp.select('NDVIfeb').reduceRegion(reducer=ee.Reducer.mean(),geometry=SA,scale=scale);\n",
    "marchmean = ndvicomp.select('NDVImarch').reduceRegion(reducer=ee.Reducer.mean(),geometry=SA,scale=scale);\n",
    "\n",
    "\n",
    "\n",
    "\n",
    "\n",
    "# creating the data to plot\n",
    "data = {'JAN':janmean.getInfo()['NDVIjan'], 'FEB':febmean.getInfo()['NDVIfeb'], 'MARCH':marchmean.getInfo()['NDVImarch']}\n",
    "courses = list(data.keys())\n",
    "values = list(data.values())\n",
    "fig = plt.figure(figsize = (10, 5))\n",
    " \n",
    "# creating the bar plot\n",
    "plt.bar(courses, values, color ='green',width = 0.4)\n",
    "plt.xlabel(\"Month\")\n",
    "plt.ylabel(\"NDVI\")\n",
    "plt.title(\"Mean NDVI for each month of selected region\")\n",
    "plt.show()\n",
    "\n",
    "\n"
   ]
  },
  {
   "cell_type": "markdown",
   "id": "casual-croatia",
   "metadata": {},
   "source": [
    "# Downloading of data"
   ]
  },
  {
   "cell_type": "code",
   "execution_count": null,
   "id": "cutting-portfolio",
   "metadata": {},
   "outputs": [],
   "source": [
    "#Downloading the Data\n",
    "\n",
    "import os\n",
    "dscale = 30\n",
    "\n",
    "out_dir = os.path.join(os.path.expanduser('~'), 'Downloads')\n",
    "\n",
    "#FCC for each month\n",
    "#geemap.ee_export_image(cfreesinglejan.clip(SA), filename = os.path.join(out_dir, 'cloudfreejanfcc.tif'), scale=dscale, region=SA, file_per_band = False)\n",
    "# geemap.ee_export_image(cfreesinglefeb.clip(SA), filename = os.path.join(out_dir, 'cloudfreefebfcc.tif'), scale=dscale, region=SA, file_per_band = False)\n",
    "# geemap.ee_export_image(cfreesinglemarch.clip(SA), filename = os.path.join(out_dir, 'cloudfreemarchfcc.tif'), scale=dscale, region=SA, file_per_band = False)\n",
    "\n",
    "\n",
    "#NDVI for each month\n",
    "# geemap.ee_export_image(ndvicomp.select('NDVIjan').clip(SA), filename = os.path.join(out_dir, 'ndvijan.tif'), scale=dscale, region=SA, file_per_band = False)\n",
    "# geemap.ee_export_image(ndvicomp.select('NDVIfeb').clip(SA), filename = os.path.join(out_dir, 'ndvifeb.tif'), scale=dscale, region=SA, file_per_band = False)\n",
    "# geemap.ee_export_image(ndvicomp.select('NDVImarch').clip(SA), filename = os.path.join(out_dir, 'ndvimarch.tif'), scale=dscale, region=SA, file_per_band = False)\n",
    "\n",
    "#NDVI Multitemporal\n",
    "geemap.ee_export_image(ndvicomp.clip(SA), filename = os.path.join(out_dir, 'ndvimultitemporal.tif'), scale=dscale, region=SA, file_per_band = False)"
   ]
  },
  {
   "cell_type": "markdown",
   "id": "forty-exemption",
   "metadata": {},
   "source": [
    "# Splitting & Printing to check data"
   ]
  },
  {
   "cell_type": "code",
   "execution_count": 2,
   "id": "informational-carnival",
   "metadata": {},
   "outputs": [
    {
     "name": "stdout",
     "output_type": "stream",
     "text": [
      "{'type': 'Feature', 'geometry': None, 'id': '0_0', 'properties': {'NDVIfeb': 0.24629080295562744, 'NDVIjan': 0.10988199710845947, 'NDVImarch': 0.050160087645053864, 'name': 1}}\n"
     ]
    }
   ],
   "source": [
    "print(training.first().getInfo())"
   ]
  },
  {
   "cell_type": "code",
   "execution_count": 3,
   "id": "isolated-sunset",
   "metadata": {},
   "outputs": [],
   "source": [
    "# Adds a column of deterministic pseudorandom numbers. \n",
    "sample = training.randomColumn()\n",
    "\n",
    "split = 0.7\n",
    "\n",
    "training = sample.filter(ee.Filter.lt('random', split))\n",
    "validation = sample.filter(ee.Filter.gte('random', split))"
   ]
  },
  {
   "cell_type": "code",
   "execution_count": null,
   "id": "passive-player",
   "metadata": {},
   "outputs": [],
   "source": [
    "print(sample.first().getInfo())"
   ]
  },
  {
   "cell_type": "code",
   "execution_count": null,
   "id": "bacterial-arrangement",
   "metadata": {},
   "outputs": [],
   "source": [
    "print(training.size().getInfo())"
   ]
  },
  {
   "cell_type": "code",
   "execution_count": null,
   "id": "painted-recovery",
   "metadata": {},
   "outputs": [],
   "source": [
    "print(validation.size().getInfo())"
   ]
  },
  {
   "cell_type": "markdown",
   "id": "expensive-thirty",
   "metadata": {},
   "source": [
    "# Image to be classified"
   ]
  },
  {
   "cell_type": "code",
   "execution_count": 48,
   "id": "appointed-airport",
   "metadata": {},
   "outputs": [
    {
     "name": "stdout",
     "output_type": "stream",
     "text": [
      "Okay!\n"
     ]
    }
   ],
   "source": [
    "imgcol = ee.ImageCollection(\"COPERNICUS/S2\");\n",
    "\n",
    "#Polygon Study area with coordinates\n",
    "SA = ee.Geometry.Polygon(\n",
    "        [[[77.44504111066439, 27.133452708222787],\n",
    "          [77.44504111066439, 27.073245342079318],\n",
    "          [77.5248636509476, 27.073245342079318],\n",
    "          [77.5248636509476, 27.133452708222787]]], None, False);\n",
    "\n",
    "\n",
    "spatialFiltered = imgcol.filterBounds(SA); #Filter by area, You can input either SA or rectangle here\n",
    "\n",
    "year = \"2017\"\n",
    "\n",
    "#Enter Dates Here!\n",
    "jancol = spatialFiltered.filterDate(year+'-01-01', year+'-01-31'); #January\n",
    "febcol = spatialFiltered.filterDate(year+'-02-01', year+'-02-28'); #February\n",
    "marchcol = spatialFiltered.filterDate(year+'-03-01', year+'-03-31'); #March\n",
    "\n",
    "\n",
    "#Cloud mask function\n",
    "def maskS2clouds(image):\n",
    "    qa = image.select('QA60');\n",
    "\n",
    "\n",
    "    cloudBitMask = 1 << 10;\n",
    "    cirrusBitMask = 1 << 11;\n",
    "\n",
    "    mask = qa.bitwiseAnd(cloudBitMask).eq(0) and (qa.bitwiseAnd(cirrusBitMask).eq(0));\n",
    "\n",
    "    return image.updateMask(mask).divide(10000);\n",
    "\n",
    "\n",
    "\n",
    "#Making cloud free images\n",
    "cfreejan = jancol.map(maskS2clouds);\n",
    "cfreesinglejan = cfreejan.median()\n",
    "#print('cfreesinglejan',cfreesinglejan)\n",
    "\n",
    "cfreefeb = febcol.map(maskS2clouds);\n",
    "cfreesinglefeb = cfreefeb.median()\n",
    "#print('cfreesinglefeb',cfreesinglefeb)\n",
    "\n",
    "cfreemarch = marchcol.map(maskS2clouds);\n",
    "cfreesinglemarch = cfreemarch.median()\n",
    "#print('cfreesinglemarch',cfreesinglemarch)\n",
    "\n",
    "\n",
    "#Calculating NDVIs for each month\n",
    "ndvijan = cfreesinglejan.normalizedDifference(['B5', 'B4']).rename('NDVIjan');\n",
    "ndvifeb = cfreesinglefeb.normalizedDifference(['B5', 'B4']).rename('NDVIfeb');\n",
    "ndvimarch = cfreesinglemarch.normalizedDifference(['B5', 'B4']).rename('NDVImarch');\n",
    "\n",
    "\n",
    "#Taking empty image instance and adding three NDVIs to it\n",
    "ndvicomp = ee.Image().addBands([ndvijan, ndvifeb, ndvimarch]);\n",
    "\n",
    "print(\"Okay!\")"
   ]
  },
  {
   "cell_type": "markdown",
   "id": "monthly-drive",
   "metadata": {},
   "source": [
    "# Random forest classifier"
   ]
  },
  {
   "cell_type": "code",
   "execution_count": 4,
   "id": "ceramic-overhead",
   "metadata": {},
   "outputs": [
    {
     "data": {
      "application/vnd.jupyter.widget-view+json": {
       "model_id": "5c26afc7dcae4ceb95880eca847e4011",
       "version_major": 2,
       "version_minor": 0
      },
      "text/plain": [
       "Map(center=[27.110200055841727, 77.49584999999253], controls=(WidgetControl(options=['position', 'transparent_…"
      ]
     },
     "metadata": {},
     "output_type": "display_data"
    }
   ],
   "source": [
    "#RANDOM FOREST CLASSIFIER\n",
    "\n",
    "classifier = ee.Classifier.smileRandomForest(10).train(training, label, bandtraining)\n",
    "result = ndvicomp.select(bandtraining).classify(classifier)\n",
    "\n",
    "myvis = {'min': 1, 'max': 3, 'palette': ['00FF00', 'FF0000','0000FF']};\n",
    "\n",
    "Map.addLayer(result.clip(SA),myvis, 'classified')\n",
    "Map"
   ]
  },
  {
   "cell_type": "markdown",
   "id": "bibliographic-catalog",
   "metadata": {},
   "source": [
    "# SVM classifier"
   ]
  },
  {
   "cell_type": "code",
   "execution_count": 46,
   "id": "unsigned-macintosh",
   "metadata": {},
   "outputs": [
    {
     "data": {
      "application/vnd.jupyter.widget-view+json": {
       "model_id": "1a44e64bb3604f159b83a698a3d1abe0",
       "version_major": 2,
       "version_minor": 0
      },
      "text/plain": [
       "Map(bottom=884702.0, center=[27.110173039671658, 77.49601364135744], controls=(WidgetControl(options=['positio…"
      ]
     },
     "metadata": {},
     "output_type": "display_data"
    }
   ],
   "source": [
    "classifier = ee.Classifier.libsvm(kernelType='RBF',gamma=0.5,cost=10).train(training, label, bandtraining)\n",
    "\n",
    "result = ndvicomp.select(bandtraining).classify(classifier)\n",
    "\n",
    "myvis = {'min': 1, 'max': 3, 'palette': ['00FF00', 'FF0000','0000FF']};\n",
    "\n",
    "Map.addLayer(result.clip(SA),myvis, 'classified')\n",
    "Map\n"
   ]
  },
  {
   "cell_type": "markdown",
   "id": "better-financing",
   "metadata": {},
   "source": [
    "# Smilecart classifier"
   ]
  },
  {
   "cell_type": "code",
   "execution_count": 47,
   "id": "upper-afghanistan",
   "metadata": {
    "scrolled": true
   },
   "outputs": [
    {
     "data": {
      "application/vnd.jupyter.widget-view+json": {
       "model_id": "1a44e64bb3604f159b83a698a3d1abe0",
       "version_major": 2,
       "version_minor": 0
      },
      "text/plain": [
       "Map(bottom=884702.0, center=[27.110173039671658, 77.49601364135744], controls=(WidgetControl(options=['positio…"
      ]
     },
     "metadata": {},
     "output_type": "display_data"
    }
   ],
   "source": [
    "#SMILECART CLASSIFIER\n",
    "\n",
    "classifier = ee.Classifier.smileCart().train(training, label, bandtraining)\n",
    "result = ndvicomp.select(bandtraining).classify(classifier)\n",
    "\n",
    "myvis = {'min': 1, 'max': 3, 'palette': ['00FF00', 'FF0000','0000FF']};\n",
    "\n",
    "Map.addLayer(result.clip(SA),myvis, 'classified')\n",
    "Map"
   ]
  },
  {
   "cell_type": "markdown",
   "id": "cooperative-basket",
   "metadata": {},
   "source": [
    "# Accuracy assesment"
   ]
  },
  {
   "cell_type": "code",
   "execution_count": null,
   "id": "common-victory",
   "metadata": {},
   "outputs": [],
   "source": [
    "#CONFUSION MATRIX\n",
    "\n",
    "train_accuracy = classifier.confusionMatrix()\n",
    "train_accuracy.getInfo()"
   ]
  },
  {
   "cell_type": "code",
   "execution_count": null,
   "id": "conservative-volunteer",
   "metadata": {},
   "outputs": [],
   "source": [
    "train_accuracy.accuracy().getInfo()"
   ]
  },
  {
   "cell_type": "code",
   "execution_count": null,
   "id": "guilty-disco",
   "metadata": {},
   "outputs": [],
   "source": [
    "train_accuracy.kappa().getInfo()"
   ]
  },
  {
   "cell_type": "code",
   "execution_count": null,
   "id": "listed-seeking",
   "metadata": {},
   "outputs": [],
   "source": [
    "train_accuracy.producersAccuracy().getInfo()"
   ]
  },
  {
   "cell_type": "code",
   "execution_count": null,
   "id": "educated-working",
   "metadata": {},
   "outputs": [],
   "source": [
    "train_accuracy.consumersAccuracy().getInfo()"
   ]
  },
  {
   "cell_type": "code",
   "execution_count": null,
   "id": "running-space",
   "metadata": {},
   "outputs": [],
   "source": [
    "validated = validation.classify(classifier)\n",
    "validated.first().getInfo()"
   ]
  },
  {
   "cell_type": "code",
   "execution_count": null,
   "id": "numerical-underground",
   "metadata": {},
   "outputs": [],
   "source": [
    "test_accuracy = validated.errorMatrix('name', 'classification')\n",
    "test_accuracy.getInfo()"
   ]
  },
  {
   "cell_type": "code",
   "execution_count": null,
   "id": "assumed-syria",
   "metadata": {},
   "outputs": [],
   "source": [
    "test_accuracy.accuracy().getInfo()"
   ]
  },
  {
   "cell_type": "code",
   "execution_count": null,
   "id": "wound-hunter",
   "metadata": {},
   "outputs": [],
   "source": [
    "test_accuracy.kappa().getInfo()"
   ]
  }
 ],
 "metadata": {
  "kernelspec": {
   "display_name": "Python 3",
   "language": "python",
   "name": "python3"
  },
  "language_info": {
   "codemirror_mode": {
    "name": "ipython",
    "version": 3
   },
   "file_extension": ".py",
   "mimetype": "text/x-python",
   "name": "python",
   "nbconvert_exporter": "python",
   "pygments_lexer": "ipython3",
   "version": "3.8.5"
  }
 },
 "nbformat": 4,
 "nbformat_minor": 5
}
