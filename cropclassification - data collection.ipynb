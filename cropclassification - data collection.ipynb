{
 "cells": [
  {
   "cell_type": "code",
   "execution_count": 2,
   "id": "federal-length",
   "metadata": {
    "scrolled": false
   },
   "outputs": [
    {
     "data": {
      "image/png": "[encoded data removed]",
      "text/plain": [
       "<Figure size 720x360 with 1 Axes>"
      ]
     },
     "metadata": {
      "needs_background": "light"
     },
     "output_type": "display_data"
    },
    {
     "data": {
      "application/vnd.jupyter.widget-view+json": {
       "model_id": "38ac0b75884148d2a0e9a25261bdbf5a",
       "version_major": 2,
       "version_minor": 0
      },
      "text/plain": [
       "Map(center=[27.1029, 77.4813], controls=(WidgetControl(options=['position', 'transparent_bg'], widget=HBox(chi…"
      ]
     },
     "metadata": {},
     "output_type": "display_data"
    }
   ],
   "source": [
    "import ee\n",
    "import geemap\n",
    "import numpy as np\n",
    "import matplotlib.pyplot as plt\n",
    "\n",
    "Map = geemap.Map()\n",
    "\n",
    "imgcol = ee.ImageCollection(\"COPERNICUS/S2\");\n",
    "\n",
    "#Polygon Study area with coordinates\n",
    "SA = ee.Geometry.Polygon(\n",
    "        [[[77.44504111066439, 27.133452708222787],\n",
    "          [77.44504111066439, 27.073245342079318],\n",
    "          [77.5248636509476, 27.073245342079318],\n",
    "          [77.5248636509476, 27.133452708222787]]], None, False);\n",
    "\n",
    "\n",
    "spatialFiltered = imgcol.filterBounds(SA); #Filter by area, You can input either SA or rectangle here\n",
    "\n",
    "\n",
    "#Enter Dates Here!\n",
    "jancol = spatialFiltered.filterDate('2016-01-01', '2016-01-31'); #January\n",
    "febcol = spatialFiltered.filterDate('2016-02-01', '2016-02-29'); #February\n",
    "marchcol = spatialFiltered.filterDate('2016-03-01', '2016-03-31'); #March\n",
    "\n",
    "\n",
    "#Cloud mask function\n",
    "def maskS2clouds(image):\n",
    "    qa = image.select('QA60');\n",
    "\n",
    "\n",
    "    cloudBitMask = 1 << 10;\n",
    "    cirrusBitMask = 1 << 11;\n",
    "\n",
    "    mask = qa.bitwiseAnd(cloudBitMask).eq(0) and (qa.bitwiseAnd(cirrusBitMask).eq(0));\n",
    "\n",
    "    return image.updateMask(mask).divide(10000);\n",
    "\n",
    "\n",
    "\n",
    "#Making cloud free images\n",
    "cfreejan = jancol.map(maskS2clouds);\n",
    "cfreesinglejan = cfreejan.median()\n",
    "#print('cfreesinglejan',cfreesinglejan)\n",
    "\n",
    "cfreefeb = febcol.map(maskS2clouds);\n",
    "cfreesinglefeb = cfreefeb.median()\n",
    "#print('cfreesinglefeb',cfreesinglefeb)\n",
    "\n",
    "cfreemarch = marchcol.map(maskS2clouds);\n",
    "cfreesinglemarch = cfreemarch.median()\n",
    "#print('cfreesinglemarch',cfreesinglemarch)\n",
    "\n",
    "\n",
    "#Calculating NDVIs for each month\n",
    "ndvijan = cfreesinglejan.normalizedDifference(['B5', 'B4']).rename('NDVIjan');\n",
    "ndvifeb = cfreesinglefeb.normalizedDifference(['B5', 'B4']).rename('NDVIfeb');\n",
    "ndvimarch = cfreesinglemarch.normalizedDifference(['B5', 'B4']).rename('NDVImarch');\n",
    "\n",
    "\n",
    "#Taking empty image instance and adding three NDVIs to it\n",
    "ndvicomp = ee.Image().addBands([ndvijan, ndvifeb, ndvimarch]);\n",
    "\n",
    "\n",
    "#-----------------------------------------------VISULISATION-------------------------------------------------------------\n",
    "#Center map over Bharatpur area\n",
    "Map.setCenter(77.4813,27.1029, 13);\n",
    "scale = 30\n",
    "\n",
    "\n",
    "#Simple RGB \n",
    "rgbVis = {'min': 0.0,'max': 0.3,'bands': ['B4', 'B3', 'B2'],'gamma': [0.95, 1.1, 1], 'scale':scale}\n",
    "#Visulise Cloud free RGB image\n",
    "Map.addLayer(cfreesinglemarch.clip(SA), rgbVis, 'RGB');\n",
    "\n",
    "\n",
    "#NDVI of a month\n",
    "ndviParams = {'min': 0, 'max': 0.2, 'palette': ['blue', 'white', 'green'], 'scale':scale};\n",
    "\n",
    "#NDVI for january\n",
    "Map.addLayer(ndvicomp.select('NDVIjan').clip(SA), ndviParams, 'NDVIJan');\n",
    "#NDVI for february\n",
    "Map.addLayer(ndvicomp.select('NDVIfeb').clip(SA), ndviParams, 'NDVIFeb');\n",
    "#NDVI for march\n",
    "Map.addLayer(ndvicomp.select('NDVImarch').clip(SA), ndviParams, 'NDVIMarch');\n",
    "\n",
    "\n",
    "#False colour composite of a month\n",
    "false = {'bands': ['B8', 'B4', 'B3'],'min': 0,'max': 0.5,'gamma': [0.95, 1.1, 1], 'scale':scale};\n",
    "\n",
    "\n",
    "#Map.addLayer(cfreesinglejan.clip(SA), false, 'FCCJan')\n",
    "#Map.addLayer(cfreesinglefeb.clip(SA), false, 'FCCFeb')\n",
    "#Map.addLayer(cfreesinglemarch.clip(SA), false, 'FCCMarch')\n",
    "\n",
    "\n",
    "#NDVI colour composite\n",
    "ndvicc = {'bands': ['NDVIjan', 'NDVIfeb', 'NDVImarch'],'min': 0,'max': 0.5,'gamma': [0.85, 1.8, 0.8], 'scale':scale};\n",
    "\n",
    "Map.addLayer(ndvicomp.clip(SA), ndvicc, 'NDVI Multitemporal')\n",
    "Map\n",
    "\n",
    "\n",
    "#-----------------------------------------------VISULISATION ENDS HERE---------------------------------------------------\n",
    "\n",
    "\n",
    "\n",
    "\n",
    "#Calculating mean of each month\n",
    "janmean = ndvicomp.select('NDVIjan').reduceRegion(reducer=ee.Reducer.mean(),geometry=SA,scale=scale);\n",
    "febmean = ndvicomp.select('NDVIfeb').reduceRegion(reducer=ee.Reducer.mean(),geometry=SA,scale=scale);\n",
    "marchmean = ndvicomp.select('NDVImarch').reduceRegion(reducer=ee.Reducer.mean(),geometry=SA,scale=scale);\n",
    "\n",
    "\n",
    "\n",
    "\n",
    "\n",
    "# creating the data to plot\n",
    "data = {'JAN':janmean.getInfo()['NDVIjan'], 'FEB':febmean.getInfo()['NDVIfeb'], 'MARCH':marchmean.getInfo()['NDVImarch']}\n",
    "courses = list(data.keys())\n",
    "values = list(data.values())\n",
    "fig = plt.figure(figsize = (10, 5))\n",
    " \n",
    "# creating the bar plot\n",
    "plt.bar(courses, values, color ='blue',width = 0.4)\n",
    "plt.xlabel(\"Month\")\n",
    "plt.ylabel(\"NDVI\")\n",
    "plt.title(\"Mean NDVI for each month of selected region\")\n",
    "plt.show()\n",
    "\n",
    "\n",
    "Map\n",
    "\n"
   ]
  },
  {
   "cell_type": "code",
   "execution_count": 2,
   "id": "cutting-portfolio",
   "metadata": {},
   "outputs": [
    {
     "name": "stdout",
     "output_type": "stream",
     "text": [
      "Generating URL ...\n",
      "Downloading data from https://earthengine.googleapis.com/v1alpha/projects/earthengine-legacy/thumbnails/f48a8e154df90dc7235849c69883a471-2879b2ec0e1a85c5a13b3d6ab5358611:getPixels\n",
      "Please wait ...\n",
      "Data downloaded to C:\\Users\\HArsh\\Downloads\\ndvimultitemporal.tif\n"
     ]
    }
   ],
   "source": [
    "#Downloading the Data\n",
    "\n",
    "import os\n",
    "dscale = 30\n",
    "\n",
    "out_dir = os.path.join(os.path.expanduser('~'), 'Downloads')\n",
    "\n",
    "#FCC for each month\n",
    "#geemap.ee_export_image(cfreesinglejan.clip(SA), filename = os.path.join(out_dir, 'cloudfreejanfcc.tif'), scale=dscale, region=SA, file_per_band = False)\n",
    "# geemap.ee_export_image(cfreesinglefeb.clip(SA), filename = os.path.join(out_dir, 'cloudfreefebfcc.tif'), scale=dscale, region=SA, file_per_band = False)\n",
    "# geemap.ee_export_image(cfreesinglemarch.clip(SA), filename = os.path.join(out_dir, 'cloudfreemarchfcc.tif'), scale=dscale, region=SA, file_per_band = False)\n",
    "\n",
    "\n",
    "#NDVI for each month\n",
    "# geemap.ee_export_image(ndvicomp.select('NDVIjan').clip(SA), filename = os.path.join(out_dir, 'ndvijan.tif'), scale=dscale, region=SA, file_per_band = False)\n",
    "# geemap.ee_export_image(ndvicomp.select('NDVIfeb').clip(SA), filename = os.path.join(out_dir, 'ndvifeb.tif'), scale=dscale, region=SA, file_per_band = False)\n",
    "# geemap.ee_export_image(ndvicomp.select('NDVImarch').clip(SA), filename = os.path.join(out_dir, 'ndvimarch.tif'), scale=dscale, region=SA, file_per_band = False)\n",
    "\n",
    "#NDVI Multitemporal\n",
    "geemap.ee_export_image(ndvicomp.clip(SA), filename = os.path.join(out_dir, 'ndvimultitemporal.tif'), scale=dscale, region=SA, file_per_band = False)"
   ]
  },
  {
   "cell_type": "code",
   "execution_count": null,
   "id": "difficult-crest",
   "metadata": {},
   "outputs": [],
   "source": []
  },
  {
   "cell_type": "code",
   "execution_count": null,
   "id": "southern-customs",
   "metadata": {},
   "outputs": [],
   "source": []
  }
 ],
 "metadata": {
  "kernelspec": {
   "display_name": "Python 3",
   "language": "python",
   "name": "python3"
  },
  "language_info": {
   "codemirror_mode": {
    "name": "ipython",
    "version": 3
   },
   "file_extension": ".py",
   "mimetype": "text/x-python",
   "name": "python",
   "nbconvert_exporter": "python",
   "pygments_lexer": "ipython3",
   "version": "3.8.5"
  }
 },
 "nbformat": 4,
 "nbformat_minor": 5
}
